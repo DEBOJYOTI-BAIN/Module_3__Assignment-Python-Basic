{
  "nbformat": 4,
  "nbformat_minor": 0,
  "metadata": {
    "colab": {
      "provenance": []
    },
    "kernelspec": {
      "name": "python3",
      "display_name": "Python 3"
    },
    "language_info": {
      "name": "python"
    }
  },
  "cells": [
    {
      "cell_type": "markdown",
      "source": [
        "#Theory Questions and Answers:\n",
        "1.  What is Python, and why is it popular?\n",
        "    - Python is a user friendly high level programming language which consists of vast libraries and is used for machine learning, automation etc. It supports multiple paradigms like Object Oriented Programming and Procedural programming. It's syntax is easy and so is easy to read and provided modularity.\n",
        "  \n",
        "2.  What is an interpreter in Python?\n",
        "    - An interpreter is a program in Python which convertes python source code line by line to Python bytecode. It detects erros and stops conversion flow to the next line.\n",
        "\n",
        "3.  What are pre-defined keywords in Python?\n",
        "    - Pre defined keywords are reserved words in python which has its independent meaning and properties. Pre defined keywords is always required to run a successful Python program. These words cannot be used as an identifier name. Eg: if, else, is, for., etc\n",
        "\n",
        "4.  Can keywords be used as variable names?\n",
        "    - No, keywords cannot be used as variable names since keywords are reserved words which have their own meaning and properties.\n",
        "\n",
        "5.  What is mutability in Python?\n",
        "    - Mutability is a feature in Python to change the values in a dataset. Like lists are mutable in Python i.e. we can change or update the value of list. However in case of tuples we cannot change their values i.e. they are immutable.\n",
        "\n",
        "6.  Why are lists mutable, but tuples are immutable?\n",
        "    - Lists are mutable because their values can be changed or updated, but tuples are immutable as their values cannot be changed after creation.\n",
        "    \n",
        "7.  What is the difference between “==” and “is” operators in Python?\n",
        "    - \"==\" checks whether the values (numberical or character) are same in two different variables or not.\n",
        "    - Whereas \"is\" checks whether both the two variables contain same object or not.\n",
        "    - Eg: a = 10, b = 10; and c = [1,2,3] and d = [1,2,3]. In case of (a == b) and (a is b) the answers will be True since 10 is an object in python which is created in a memory location say 0x005 (just example) where a and b are two variables pointing to the same value. Since 10 is constant and static value so a and b are pointing to same memory location and so (a is b) is True. But in case of mutable objects like c and d, if we ask (c==d) then it will be TRUE since the ascii value inside the list items are same but when we do (c is b) then its False since in case of mutable objects Python creates two separate memory addresses like c points to memory location 0x001,0x002,0x003 but d will point to different memory address like 0x44, 0x384,0x88, becoz mutable objects have a chance to get updated, so the same memory address object is undisturbed.\n",
        "            a = 10  \n",
        "            b = 10  \n",
        "            print(a == b)   # True  \n",
        "            print(a is b)   # True (because small integers are stored in the same memory by Python)\n",
        "\n",
        "\n",
        "              c = [1, 2, 3]  \n",
        "              d = [1, 2, 3]  \n",
        "              print(c == d)   # True  \n",
        "              print(c is d)   # False\n",
        "\n",
        "\n",
        "8.  What are logical operators in Python?\n",
        "    - logical operators in python are keywords which perform logical operations like and, or, not.\n",
        "    - If any one condition is true then \"or\" operator returns TRUE, else it returns FALSE.\n",
        "    - If both the condition is true then only \"and\" operator returns TRUE, else it returns FALSE.\n",
        "    - \"not\" operator negates the input, it returns TRUE if input/condition is FALSE and returns FALSE if condition is TRUE.\n",
        "\n",
        "9.  What is type casting in Python?\n",
        "    - Type casting is a property in Python by which value of one class type can be converted to another class type.\n",
        "    - For example: 5 and \"4\" are two different classes, first one is integer class and second one is string class. If we need to add them then we need to convert the \"4\" from string to integer class.\n",
        "\n",
        "10.  What is the difference between implicit and explicit type casting?\n",
        "    - Implicit type casting is the type casting which happens automatically by Python itself. For example:\n",
        "    - Explicit type casting is the type casting which is done manually by the programmer. For example: 5 and \"4\" are two different classes, first one is integer class and second one is string class. If we need to add them then we need to convert the \"4\" from string to integer class.\n",
        "\n",
        "11.  What is the purpose of conditional statements in Python?\n",
        "    - Conditional statements in Python are keywords which checks the condition and then executes the corresponding block of code to be executed.\n",
        "    - In python there are 3 conditional statements, \"if, elif and else\".\n",
        "    - \"if\" is used for single condition, \"el-if\" is used for multiple conditions, \"else\" is used as the final condition for \"elif\" or \"if\" case, which marks the final condition.\n",
        "    - \"if\" can also work without \"else\".\n",
        "\n",
        "12.  How does the elif statement work?\n",
        "    - The syntax to write elif is:\n",
        "            if(condition1):\n",
        "                statement1   \n",
        "            elif(condition2):\n",
        "                statement2    \n",
        "            else(last or final condition):\n",
        "                statement3\n",
        "    - elif statement is used before the final condition, it is used to write other conditional statemements in Python\n",
        "\n",
        "13.  What is the difference between for and while loops?\n",
        "    - while loops uses the condition first and then executes the statement, whereas for loops initialize with the condition and the range and then it executes.\n",
        "\n",
        "14.  Describe a scenario where a while loop is more suitable than a for loop?\n",
        "    - a program in which we need to enter values from user until its negative.\n",
        "            n = int(input(\"Enter a number: \"))  \n",
        "            while n >= 0:  \n",
        "                n = int(input(\"Enter a number: \"))  \n"
      ],
      "metadata": {
        "id": "FKclHq8ilaiI"
      }
    },
    {
      "cell_type": "markdown",
      "source": [
        "#Practical Questions and Answers"
      ],
      "metadata": {
        "id": "KHN__jS0W3eA"
      }
    },
    {
      "cell_type": "code",
      "source": [
        "# Q1.  Write a Python program to print \"Hello, World!\"\n",
        "\n",
        "print(\"Hello, World!\")"
      ],
      "metadata": {
        "id": "t2jwxnrFzkiR",
        "colab": {
          "base_uri": "https://localhost:8080/"
        },
        "outputId": "d025d05e-7d3b-414b-ebc6-fe3f6cfa99ec"
      },
      "execution_count": 2,
      "outputs": [
        {
          "output_type": "stream",
          "name": "stdout",
          "text": [
            "Hello, World!\n"
          ]
        }
      ]
    },
    {
      "cell_type": "code",
      "source": [
        "#Q2.  Write a Python program that displays your name and age\n",
        "\n",
        "name = \"Debojyoti\"\n",
        "age = 21\n",
        "\n",
        "print(f\"name is {name}\\nage is {age}\")"
      ],
      "metadata": {
        "colab": {
          "base_uri": "https://localhost:8080/"
        },
        "id": "dXCFIRoiW008",
        "outputId": "13d6c687-8aa9-4b7c-c5df-006a20a1bb93"
      },
      "execution_count": 4,
      "outputs": [
        {
          "output_type": "stream",
          "name": "stdout",
          "text": [
            "name is Debojyoti\n",
            "age is 21\n"
          ]
        }
      ]
    },
    {
      "cell_type": "code",
      "source": [
        "#Q3.  Write code to print all the pre-defined keywords in Python using the keyword library\n",
        "import keyword\n",
        "print(\"Python Keywords:\")\n",
        "print(keyword.kwlist)"
      ],
      "metadata": {
        "colab": {
          "base_uri": "https://localhost:8080/"
        },
        "id": "7962_AbiXAkg",
        "outputId": "ec984359-ff4f-43e3-84e2-72099d16a572"
      },
      "execution_count": 5,
      "outputs": [
        {
          "output_type": "stream",
          "name": "stdout",
          "text": [
            "Python Keywords:\n",
            "['False', 'None', 'True', 'and', 'as', 'assert', 'async', 'await', 'break', 'class', 'continue', 'def', 'del', 'elif', 'else', 'except', 'finally', 'for', 'from', 'global', 'if', 'import', 'in', 'is', 'lambda', 'nonlocal', 'not', 'or', 'pass', 'raise', 'return', 'try', 'while', 'with', 'yield']\n"
          ]
        }
      ]
    },
    {
      "cell_type": "code",
      "source": [
        "#Q4.  Write a program that checks if a given word is a Python keyword.\n",
        "\n",
        "import keyword\n",
        "word = input(\"Enter a word: \")\n",
        "if keyword.iskeyword(word):\n",
        "    print(word, \"is a Python keyword.\")\n",
        "else:\n",
        "    print(word, \"is NOT a Python keyword.\")"
      ],
      "metadata": {
        "colab": {
          "base_uri": "https://localhost:8080/"
        },
        "id": "bAsWalZgXD1W",
        "outputId": "c0a70eef-8e91-4b09-9335-519fa87ab74c"
      },
      "execution_count": 9,
      "outputs": [
        {
          "output_type": "stream",
          "name": "stdout",
          "text": [
            "Enter a word: while\n",
            "while is a Python keyword.\n"
          ]
        }
      ]
    },
    {
      "cell_type": "code",
      "source": [
        "#Q5. Create a list and tuple in Python, and demonstrate how attempting to change an element works differently for each.\n",
        "\n",
        "\n",
        "mylist = [1, 2, 3]\n",
        "mylist[0] = 10\n",
        "print(\"List after change:\", mylist)\n",
        "\n",
        "\n",
        "mytuple = (1, 2, 3)\n",
        "\n",
        "try:\n",
        "    mytuple[0] = 10\n",
        "except:\n",
        "    print(\"Can't change tuple\")\n"
      ],
      "metadata": {
        "colab": {
          "base_uri": "https://localhost:8080/"
        },
        "id": "DHG3JmWiXIKU",
        "outputId": "611d5564-2f5c-473d-c77f-1014c4e373cd"
      },
      "execution_count": 21,
      "outputs": [
        {
          "output_type": "stream",
          "name": "stdout",
          "text": [
            "List after change: [10, 2, 3]\n",
            "Can't change tuple\n"
          ]
        }
      ]
    },
    {
      "cell_type": "code",
      "source": [
        "#Q6. Write a function to demonstrate the behavior of mutable and immutable arguments.\n",
        "\n",
        "\n",
        "def change_number(num):\n",
        "    num = num + 10\n",
        "    print(\"Inside function (immutable):\", num)\n",
        "\n",
        "\n",
        "def change_list(my_list):\n",
        "    my_list[0] = 99\n",
        "    print(\"Inside function (mutable):\", my_list)\n",
        "\n",
        "\n",
        "a = 5\n",
        "change_number(a)\n",
        "print(\"Outside function (immutable):\", a)\n",
        "\n",
        "\n",
        "b = [1, 2, 3]\n",
        "change_list(b)\n",
        "print(\"Outside function (mutable):\", b)\n"
      ],
      "metadata": {
        "colab": {
          "base_uri": "https://localhost:8080/"
        },
        "id": "nlPWk3ZjXP4e",
        "outputId": "4a0cb373-5232-405e-def9-ab84ba814584"
      },
      "execution_count": 24,
      "outputs": [
        {
          "output_type": "stream",
          "name": "stdout",
          "text": [
            "Inside function (immutable): 15\n",
            "Outside function (immutable): 5\n",
            "Inside function (mutable): [99, 2, 3]\n",
            "Outside function (mutable): [99, 2, 3]\n"
          ]
        }
      ]
    },
    {
      "cell_type": "code",
      "source": [
        "#Q7. Write a program that performs basic arithmetic operations on two user-input numbers.\n",
        "\n",
        "\n",
        "num1 = float(input(\"Enter first number: \"))\n",
        "num2 = float(input(\"Enter second number: \"))\n",
        "\n",
        "\n",
        "print(\"Addition:\", num1 + num2)\n",
        "print(\"Subtraction:\", num1 - num2)\n",
        "print(\"Multiplication:\", num1 * num2)\n",
        "\n",
        "\n",
        "if num2 != 0:\n",
        "    print(\"Division:\", num1 / num2)\n",
        "else:\n",
        "    print(\"Division: Cannot divide by zero\")\n"
      ],
      "metadata": {
        "colab": {
          "base_uri": "https://localhost:8080/"
        },
        "id": "AZZS38kMXWE0",
        "outputId": "7fd9edb8-3d22-43bc-e9da-bedade4b4cb2"
      },
      "execution_count": 25,
      "outputs": [
        {
          "output_type": "stream",
          "name": "stdout",
          "text": [
            "Enter first number: 5\n",
            "Enter second number: 2\n",
            "Addition: 7.0\n",
            "Subtraction: 3.0\n",
            "Multiplication: 10.0\n",
            "Division: 2.5\n"
          ]
        }
      ]
    },
    {
      "cell_type": "code",
      "source": [
        "#Q8. Write a program to demonstrate the use of logical operators.\n",
        "\n",
        "\n",
        "a = int(input(\"Enter first number: \"))\n",
        "b = int(input(\"Enter second number: \"))\n",
        "\n",
        "\n",
        "print(\"Both numbers are positive:\", a > 0 and b > 0)\n",
        "print(\"At least one number is positive:\", a > 0 or b > 0)\n",
        "print(\"First number is NOT negative:\", not (a < 0))\n"
      ],
      "metadata": {
        "colab": {
          "base_uri": "https://localhost:8080/"
        },
        "id": "McJH_ltWXZwr",
        "outputId": "a05bd76d-aea7-4b31-ab94-907cfe54ac4a"
      },
      "execution_count": 26,
      "outputs": [
        {
          "output_type": "stream",
          "name": "stdout",
          "text": [
            "Enter first number: 12\n",
            "Enter second number: 23\n",
            "Both numbers are positive: True\n",
            "At least one number is positive: True\n",
            "First number is NOT negative: True\n"
          ]
        }
      ]
    },
    {
      "cell_type": "code",
      "source": [
        "#Q9. Write a Python program to convert user input from string to integer, float, and boolean types.\n",
        "\n",
        "user_input = input(\"Enter a value: \")\n",
        "\n",
        "\n",
        "int_value = int(user_input)\n",
        "print(\"Integer:\", int_value)\n",
        "\n",
        "\n",
        "float_value = float(user_input)\n",
        "print(\"Float:\", float_value)\n",
        "\n",
        "\n",
        "bool_value = bool(user_input)\n",
        "print(\"Boolean:\", bool_value)\n"
      ],
      "metadata": {
        "colab": {
          "base_uri": "https://localhost:8080/"
        },
        "id": "9W_z53lRXeeD",
        "outputId": "0ff54c2e-66bf-4e89-9e60-e4b91f0b09b1"
      },
      "execution_count": 27,
      "outputs": [
        {
          "output_type": "stream",
          "name": "stdout",
          "text": [
            "Enter a value: 6\n",
            "Integer: 6\n",
            "Float: 6.0\n",
            "Boolean: True\n"
          ]
        }
      ]
    },
    {
      "cell_type": "code",
      "source": [
        "#Q10. Write code to demonstrate type casting with list elements.\n",
        "\n",
        "my_list = ['10', '20', '30']\n",
        "\n",
        "\n",
        "int_list = [int(x) for x in my_list]\n",
        "\n",
        "print(\"Original list (strings):\", my_list)\n",
        "print(\"After type casting to integers:\", int_list)\n"
      ],
      "metadata": {
        "colab": {
          "base_uri": "https://localhost:8080/"
        },
        "id": "wMjbbGeqXiEa",
        "outputId": "bcc65952-32dd-499b-dbf8-b7f37bd5b80d"
      },
      "execution_count": 28,
      "outputs": [
        {
          "output_type": "stream",
          "name": "stdout",
          "text": [
            "Original list (strings): ['10', '20', '30']\n",
            "After type casting to integers: [10, 20, 30]\n"
          ]
        }
      ]
    },
    {
      "cell_type": "code",
      "source": [
        "#Q11. Write a program that checks if a number is positive, negative, or zero.\n",
        "\n",
        "num = int(input(\"Enter a number: \"))\n",
        "\n",
        "if num > 0:\n",
        "    print(\"The number is positive.\")\n",
        "elif num < 0:\n",
        "    print(\"The number is negative.\")\n",
        "else:\n",
        "    print(\"The number is zero.\")\n"
      ],
      "metadata": {
        "colab": {
          "base_uri": "https://localhost:8080/"
        },
        "id": "xSAJ5oWHXlUZ",
        "outputId": "4f34392d-e7b7-43b7-91f3-aee1f033c6ec"
      },
      "execution_count": 29,
      "outputs": [
        {
          "output_type": "stream",
          "name": "stdout",
          "text": [
            "Enter a number: 12\n",
            "The number is positive.\n"
          ]
        }
      ]
    },
    {
      "cell_type": "code",
      "source": [
        "#Q12. Write a for loop to print numbers from 1 to 10.\n",
        "\n",
        "for i in range(1,11):\n",
        "  print(i)"
      ],
      "metadata": {
        "colab": {
          "base_uri": "https://localhost:8080/"
        },
        "id": "BKj_5Wb1XqL1",
        "outputId": "5c671077-b1a1-445c-ef6d-9ec9f7280ec1"
      },
      "execution_count": 10,
      "outputs": [
        {
          "output_type": "stream",
          "name": "stdout",
          "text": [
            "1\n",
            "2\n",
            "3\n",
            "4\n",
            "5\n",
            "6\n",
            "7\n",
            "8\n",
            "9\n",
            "10\n"
          ]
        }
      ]
    },
    {
      "cell_type": "code",
      "source": [
        "#Q13. Write a Python program to find the sum of all even numbers between 1 and 50.\n",
        "\n",
        "total = 0\n",
        "for i in range(1, 51):\n",
        "    if i % 2 == 0:\n",
        "        total += i\n",
        "print(\"Sum of even numbers from 1 to 50 is:\", total)\n"
      ],
      "metadata": {
        "colab": {
          "base_uri": "https://localhost:8080/"
        },
        "id": "MyWGHXwCXuUa",
        "outputId": "61ef9783-f633-41bc-fb1e-b8b2acaa80e4"
      },
      "execution_count": 19,
      "outputs": [
        {
          "output_type": "stream",
          "name": "stdout",
          "text": [
            "Sum of even numbers from 1 to 50 is: 650\n"
          ]
        }
      ]
    },
    {
      "cell_type": "code",
      "source": [
        "#Q14. Write a program to reverse a string using a while loop.\n",
        "\n",
        "str = \"String\"\n",
        "n = 1\n",
        "while(n==1):\n",
        "    print(str[::-1])\n",
        "    n = n+1"
      ],
      "metadata": {
        "colab": {
          "base_uri": "https://localhost:8080/"
        },
        "id": "6bq66J37Xydj",
        "outputId": "fbd41856-c456-406b-fa6a-b981d404c2ad"
      },
      "execution_count": 15,
      "outputs": [
        {
          "output_type": "stream",
          "name": "stdout",
          "text": [
            "gnirtS\n"
          ]
        }
      ]
    },
    {
      "cell_type": "code",
      "source": [
        "#Q15. Write a Python program to calculate the factorial of a number provided by the user using a while loop.\n",
        "\n",
        "num = int(input(\"Enter a number: \"))\n",
        "factorial = 1\n",
        "temp = num\n",
        "\n",
        "while temp > 1:\n",
        "    factorial *= temp\n",
        "    temp -= 1\n",
        "\n",
        "print(\"Factorial of\", num, \"is:\", factorial)\n"
      ],
      "metadata": {
        "colab": {
          "base_uri": "https://localhost:8080/"
        },
        "id": "mKdujNfjX2Ql",
        "outputId": "bdc69f30-0550-4666-b17c-15f80bcad408"
      },
      "execution_count": 20,
      "outputs": [
        {
          "output_type": "stream",
          "name": "stdout",
          "text": [
            "Enter a number: 5\n",
            "Factorial of 5 is: 120\n"
          ]
        }
      ]
    },
    {
      "cell_type": "code",
      "source": [],
      "metadata": {
        "id": "kMi9r4gOhjxh"
      },
      "execution_count": null,
      "outputs": []
    }
  ]
}